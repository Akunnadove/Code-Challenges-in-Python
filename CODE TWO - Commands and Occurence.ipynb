{
 "cells": [
  {
   "cell_type": "markdown",
   "id": "87318a36",
   "metadata": {},
   "source": [
    "### CODE TWO\n",
    "\n",
    "#### Write a code that contains the following functions:\n",
    "* The script has three main commands \"ls\",\"cp\",\"mv\"\n",
    "* The other minor commands includes !1, !3, !6\n",
    "* When !1, !3 and !6 commands are inputted then \"ls\",\"mv\" and \"ls\" are printed respectively\n",
    "* Store the commands and their respective outputs in a list\n",
    "* Count the occurence of the respective outputs\n",
    "* Print out the occurence in a list format in ascending order of magnitude"
   ]
  },
  {
   "cell_type": "code",
   "execution_count": 1,
   "id": "7322b080",
   "metadata": {},
   "outputs": [],
   "source": [
    "commands_one = [\"ls\",\"cp\",\"mv\",\"mv\",\"mv\",\"!1\",\"!3\",\"!6\"]\n",
    "new_commands_one = []"
   ]
  },
  {
   "cell_type": "code",
   "execution_count": 2,
   "id": "9ab783d7",
   "metadata": {},
   "outputs": [
    {
     "name": "stdout",
     "output_type": "stream",
     "text": [
      "['ls']\n",
      "['ls', 'cp']\n",
      "['ls', 'cp', 'mv']\n",
      "['ls', 'cp', 'mv', 'mv']\n",
      "['ls', 'cp', 'mv', 'mv', 'mv']\n",
      "['ls', 'cp', 'mv', 'mv', 'mv', 'ls']\n",
      "['ls', 'cp', 'mv', 'mv', 'mv', 'ls', 'mv']\n",
      "['ls', 'cp', 'mv', 'mv', 'mv', 'ls', 'mv', 'ls']\n"
     ]
    }
   ],
   "source": [
    "#Stating the Command Measures\n",
    "for i in range(len(commands_one)):\n",
    "    if commands_one[i] == \"!1\":\n",
    "        commands_one[i] = \"ls\"\n",
    "    elif commands_one[i] == \"!3\":\n",
    "        commands_one[i] = \"mv\"\n",
    "    elif commands_one[i] == \"!6\":\n",
    "        commands_one[i] = \"ls\"\n",
    "        \n",
    "#Storing the command outputs in a list\n",
    "        for x in commands_one:\n",
    "            new_commands_one.append(x)\n",
    "            print (new_commands_one)\n",
    "    "
   ]
  },
  {
   "cell_type": "code",
   "execution_count": 3,
   "id": "9c167714",
   "metadata": {},
   "outputs": [
    {
     "name": "stdout",
     "output_type": "stream",
     "text": [
      "[1, 3, 4]\n"
     ]
    }
   ],
   "source": [
    "#Empty dictionary\n",
    "occurrences = {}\n",
    "\n",
    "#Counting the occurence of distinct commands in the list\n",
    "for i in new_commands_one:\n",
    "    if i in occurrences:\n",
    "        occurrences[i] += 1\n",
    "    else:\n",
    "        occurrences[i] = 1\n",
    "        \n",
    "#Printing Occurence counts in ascending order of magnitude\n",
    "valuesList = list(occurrences.values())\n",
    "valuesList.sort()\n",
    "print (valuesList)"
   ]
  }
 ],
 "metadata": {
  "kernelspec": {
   "display_name": "Python 3",
   "language": "python",
   "name": "python3"
  },
  "language_info": {
   "codemirror_mode": {
    "name": "ipython",
    "version": 3
   },
   "file_extension": ".py",
   "mimetype": "text/x-python",
   "name": "python",
   "nbconvert_exporter": "python",
   "pygments_lexer": "ipython3",
   "version": "3.8.8"
  }
 },
 "nbformat": 4,
 "nbformat_minor": 5
}
