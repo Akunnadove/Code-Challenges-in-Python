{
 "cells": [
  {
   "cell_type": "markdown",
   "id": "abef7732",
   "metadata": {},
   "source": [
    "### CODE ONE - ALTERNATING STRING CHARACTERS\n",
    "\n",
    "#### Write a code that does the following:\n",
    "* Take inputs First = \"ab\" and Second = \"abcdef\"\n",
    "* Create a new variable called Third \n",
    "* Alternate the string characters of the First and Second variables\n",
    "* Assign the alternate outcome value to the Third variable\n",
    "* Print out the answer"
   ]
  },
  {
   "cell_type": "code",
   "execution_count": 1,
   "id": "862946d1",
   "metadata": {},
   "outputs": [],
   "source": [
    "#IMPORTING LIBRARIES\n",
    "\n",
    "from itertools import chain\n",
    "from more_itertools import roundrobin"
   ]
  },
  {
   "cell_type": "code",
   "execution_count": 2,
   "id": "ed68b853",
   "metadata": {},
   "outputs": [],
   "source": [
    "#CREATE INPUT VARIABLES\n",
    "\n",
    "First = \"jptroeok\"\n",
    "Second = \"uyentbo\"    "
   ]
  },
  {
   "cell_type": "code",
   "execution_count": 3,
   "id": "8a761103",
   "metadata": {},
   "outputs": [
    {
     "name": "stdout",
     "output_type": "stream",
     "text": [
      "['j', 'u', 'p', 'y', 't', 'e', 'r', 'n', 'o', 't', 'e', 'b', 'o', 'o', 'k']\n"
     ]
    }
   ],
   "source": [
    "#ALTERNATE THE INPUT VARIABLES AND STORE IN NEW VARIABLE LIST\n",
    "\n",
    "Third = list(roundrobin(First, Second))\n",
    "\n",
    "print (Third)"
   ]
  },
  {
   "cell_type": "code",
   "execution_count": 4,
   "id": "86264012",
   "metadata": {},
   "outputs": [
    {
     "data": {
      "text/plain": [
       "'j u p y t e r n o t e b o o k'"
      ]
     },
     "execution_count": 4,
     "metadata": {},
     "output_type": "execute_result"
    }
   ],
   "source": [
    "#CONVERT LIST TO STRING\n",
    "\n",
    "' '.join([str(item) for item in Third])"
   ]
  },
  {
   "cell_type": "code",
   "execution_count": 5,
   "id": "346d80a8",
   "metadata": {},
   "outputs": [
    {
     "name": "stdout",
     "output_type": "stream",
     "text": [
      "j u p y t e r n o t e b o o k\n"
     ]
    }
   ],
   "source": [
    "#PRINTING STRING\n",
    "\n",
    "string = ' '.join([str(item) for item in Third])\n",
    "\n",
    "print (string) "
   ]
  },
  {
   "cell_type": "markdown",
   "id": "a02e9156",
   "metadata": {},
   "source": [
    "##### Documentation code:\n",
    "def roundrobin(s, t):\n",
    "    # Recipe credited to George Sakkis\n",
    "    num_active = len(s,t)\n",
    "    nexts = cycle(iter(it).__next__ for it in num_active)\n",
    "    while num_active:\n",
    "        try:\n",
    "            for next in nexts:\n",
    "                yield next()\n",
    "        except StopIteration:\n",
    "            # Remove the iterator we just exhausted from the cycle.\n",
    "            num_active -= 1\n",
    "            nexts = cycle(islice(nexts, num_active))"
   ]
  }
 ],
 "metadata": {
  "kernelspec": {
   "display_name": "Python 3",
   "language": "python",
   "name": "python3"
  },
  "language_info": {
   "codemirror_mode": {
    "name": "ipython",
    "version": 3
   },
   "file_extension": ".py",
   "mimetype": "text/x-python",
   "name": "python",
   "nbconvert_exporter": "python",
   "pygments_lexer": "ipython3",
   "version": "3.8.8"
  }
 },
 "nbformat": 4,
 "nbformat_minor": 5
}
